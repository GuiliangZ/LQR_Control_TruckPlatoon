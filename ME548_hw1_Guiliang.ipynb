{
  "cells": [
    {
      "cell_type": "markdown",
      "metadata": {
        "colab_type": "text",
        "id": "view-in-github"
      },
      "source": [
        "<a href=\"https://colab.research.google.com/github/karenl7/AA548-spr2024/blob/dev/homework/hw1_starter_code.ipynb\" target=\"_parent\"><img src=\"https://colab.research.google.com/assets/colab-badge.svg\" alt=\"Open In Colab\"/></a>"
      ]
    },
    {
      "cell_type": "code",
      "execution_count": 5,
      "metadata": {
        "id": "quEK74PYX4QY"
      },
      "outputs": [],
      "source": [
        "import jax\n",
        "import jax.numpy as jnp\n",
        "import matplotlib.pyplot as plt\n",
        "import pdb\n",
        "import math"
      ]
    },
    {
      "cell_type": "code",
      "execution_count": 6,
      "metadata": {
        "id": "QheMKtORYARn"
      },
      "outputs": [],
      "source": [
        "class DynUnicycle:\n",
        "\n",
        "    def state_derivative(self, state, control):\n",
        "        '''\n",
        "        Computes x_dot where x_dot = f(x, u)\n",
        "        Inputs:\n",
        "            state     : A jax.numpy array of size (n,)\n",
        "            control   : A jax.numpy array of size (m,)\n",
        "\n",
        "        Output:\n",
        "            state_derivative : A jax.numpy array of size (n,)\n",
        "        '''\n",
        "        x, y, theta, v = state\n",
        "        w, a = control\n",
        "        x_dot = v * jnp.cos(theta)\n",
        "        y_dot = v * jnp.sin(theta)\n",
        "        theta_dot = w\n",
        "        v_dot = a\n",
        "        state_derivative = jnp.array([x_dot, y_dot, theta_dot, v_dot])\n",
        "        return state_derivative\n",
        "\n",
        "    def euler_step(self, state, control, dt):\n",
        "        '''\n",
        "        Computes x(k+1) using euler integration\n",
        "        Inputs:\n",
        "            state     : A jax.numpy array of size (n,)\n",
        "            control   : A jax.numpy array of size (m,)\n",
        "            dt        : time step, a float\n",
        "\n",
        "        Output:\n",
        "            next_state : A jax.numpy array of size (n,)\n",
        "        '''\n",
        "        x, y, theta, v = state\n",
        "        w, a = control\n",
        "        x_k1 = x + v * jnp.cos(theta) * dt\n",
        "        y_k1 = y + v * jnp.sin(theta) * dt\n",
        "        theta_k1 = theta + w * dt\n",
        "        v_k1 = v + a * dt\n",
        "        state_derivative = jnp.array([x_k1, y_k1, theta_k1, v_k1])\n",
        "        return state_derivative\n",
        "\n",
        "    def analytic_step(self, state, control, dt):\n",
        "        '''\n",
        "        Computes x(k+1) using analytic expression from integration.\n",
        "        Assumes zero-order hold\n",
        "        Inputs:\n",
        "            state     : A jax.numpy array of size (n,)\n",
        "            control   : A jax.numpy array of size (m,)\n",
        "            dt        : time step, a float\n",
        "\n",
        "        Output:\n",
        "            next_state : A jax.numpy array of size (n,)\n",
        "        '''\n",
        "        x, y, theta, v = state\n",
        "        w, a = control\n",
        "        \n",
        "        # Handle ω ≈ 0 case with jax.numpy.where\n",
        "        # Compute the next state for ω ≠ 0\n",
        "        x_k1_no_zero = x + v/w * (jnp.sin(theta + w*dt) - jnp.sin(theta))\n",
        "        y_k1_no_zero = y + v/w * (-jnp.cos(theta + w*dt) + jnp.cos(theta))\n",
        "        \n",
        "        # Compute the next state for ω ≈ 0 using the limit as ω → 0\n",
        "        x_k1_zero = x + v * jnp.cos(theta) * dt\n",
        "        y_k1_zero = y + v * jnp.sin(theta) * dt\n",
        "        \n",
        "        # Use jax.numpy.where to choose the correct next state based on ω\n",
        "        x_k1 = jnp.where(jnp.abs(w) > 1e-10, x_k1_no_zero, x_k1_zero)\n",
        "        y_k1 = jnp.where(jnp.abs(w) > 1e-10, y_k1_no_zero, y_k1_zero)\n",
        "        \n",
        "        # The rest of the state update remains the same\n",
        "        theta_k1 = theta + w * dt\n",
        "        v_k1 = v + a * dt\n",
        "        \n",
        "        return jnp.array([x_k1, y_k1, theta_k1, v_k1])\n",
        "\n",
        "    def RK4_step(self, state, control, dt):\n",
        "        '''\n",
        "        Computes x(k+1) using Runge-Kutta integration.\n",
        "        Assumes zero-order hold\n",
        "        Inputs:\n",
        "            state     : A jax.numpy array of size (n,)\n",
        "            control   : A jax.numpy array of size (m,)\n",
        "            dt        : time step, a float\n",
        "\n",
        "        Output:\n",
        "            next_state : A jax.numpy array of size (n,)\n",
        "        '''\n",
        "        k1 = self.state_derivative(state, control)\n",
        "        k2 = self.state_derivative(state + (dt/2) * k1, control)\n",
        "        k3 = self.state_derivative(state + (dt/2) * k2, control)\n",
        "        k4 = self.state_derivative(state + dt * k3, control)\n",
        "        next_state = state + (dt/6) * (k1 + 2*k2 + 2*k3 + k4)\n",
        "        return next_state\n",
        "\n",
        "    def linearize_continuous_time_analytic(self, state, control):\n",
        "        '''\n",
        "        Linearizes the continuous time dynamics using analytic expression\n",
        "        Inputs:\n",
        "            state     : A jax.numpy array of size (n,)\n",
        "            control   : A jax.numpy array of size (m,)\n",
        "\n",
        "        Outputs:\n",
        "            A : A jax.numpy array of size (n,n)\n",
        "            B : A jax.numpy array of size (n,m)\n",
        "            C : A jax.numpy array of size (n,1)\n",
        "        '''\n",
        "        x, y, theta, v = state\n",
        "        w, a = control\n",
        "        A = jnp.array([[0,0,-v*jnp.sin(theta), jnp.cos(theta)],\n",
        "             [0,0,v*jnp.cos(theta), jnp.sin(theta)],\n",
        "             [0,0,0,0],\n",
        "             [0,0,0,0]])\n",
        "        \n",
        "        B = jnp.array([[0,0],\n",
        "             [0,0],\n",
        "             [1,0],\n",
        "             [0,1]])\n",
        "        C = - A @ state - B @ control + self.state_derivative(state, control)\n",
        "        return A, B, C\n",
        "\n",
        "def discrete_time_simulate(discrete_time_dyn, initial_state, control_sequence):\n",
        "    '''\n",
        "    Propgates states through discrete_time_dyn using control_sequence, starting at initial_state.\n",
        "    Inputs:\n",
        "        discrete_time_dyn : A function that takes in a state and control, and returns the next state\n",
        "        initial_state     : A jax.numpy array of size (n,)\n",
        "        control_sequence  : A sequence of control inputs. A jax.numpy array of size (T,m) where T is the control inputs\n",
        "\n",
        "    Output:\n",
        "        A sequence of states from executing the control sequence. A jax.numpy array of size (T+1, n).\n",
        "    '''\n",
        "    states = [initial_state]\n",
        "    for control in control_sequence:\n",
        "        next_state = discrete_time_dyn(states[-1], control)\n",
        "        states.append(next_state)\n",
        "    return jnp.array(states)\n",
        "\n",
        "def linearize_autodiff(state_derivative, state, control):\n",
        "    '''\n",
        "    Linearizes the any dynamics using jax autodiff.\n",
        "    Inputs:\n",
        "        function_name: name of function to be linearized. Takes state and control as inputs.\n",
        "        state     : A jax.numpy array of size (n,)\n",
        "        control   : A jax.numpy array of size (m,)\n",
        "\n",
        "    Outputs:\n",
        "        A : A jax.numpy array of size (n,n)\n",
        "        B : A jax.numpy array of size (n,m)\n",
        "        C : A jax.numpy array of size (n,1)\n",
        "    '''\n",
        "    A = jax.jacfwd(state_derivative, argnums = 0)(state, control)\n",
        "    B = jax.jacfwd(state_derivative, argnums = 1)(state, control)\n",
        "    C = -jax.jacfwd(state_derivative, argnums = 0)(state, control) @ state - jax.jacfwd(state_derivative, argnums = 1)(state, control) @ control + state_derivative(state, control)\n",
        "    return A, B, C\n"
      ]
    },
    {
      "cell_type": "markdown",
      "metadata": {
        "id": "8H2NpERchuIl"
      },
      "source": [
        "# Problem 1"
      ]
    },
    {
      "cell_type": "markdown",
      "metadata": {
        "id": "HcLqGSzRhxam"
      },
      "source": [
        "The plotting code is provided below. But you need to fill out some functions first in order to run it.\n",
        "- `state_derivative`\n",
        "- `euler_step`\n",
        "- `analytic_step`\n",
        "- `RK4_step`\n",
        "- `discrete_time_simulate`\n"
      ]
    },
    {
      "cell_type": "code",
      "execution_count": 7,
      "metadata": {
        "id": "mfTvuL3RhvXl"
      },
      "outputs": [],
      "source": [
        "# generating initial state and control sequence\n",
        "initial_state = jnp.array([0, 0, jnp.pi/4, 2.])  # initial state, size [4,] array\n",
        "def generate_control_sequence(dt, horizon=5):\n",
        "    N = round(horizon / dt)\n",
        "    w_sequence = jnp.sin(jnp.linspace(0, jnp.pi, N))  # w varies sinusoidally over time\n",
        "    return jnp.stack([w_sequence, jnp.zeros(N)], 1)  # a is zero (constant speed), size [T, 2] array"
      ]
    },
    {
      "cell_type": "code",
      "execution_count": 8,
      "metadata": {
        "id": "PxLspSyDiGNg"
      },
      "outputs": [
        {
          "data": {
            "image/png": "[encoded data removed]",
            "text/plain": [
              "<Figure size 1500x400 with 3 Axes>"
            ]
          },
          "metadata": {},
          "output_type": "display_data"
        }
      ],
      "source": [
        "## Feel free to edit this code to tailor it to your implementation\n",
        "unicycle = DynUnicycle()\n",
        "\n",
        "plt.figure(figsize=(15,4))\n",
        "\n",
        "dt_array = [0.01, 0.1, 0.5]\n",
        "\n",
        "for (i,dt) in enumerate(dt_array):\n",
        "\n",
        "    controls = generate_control_sequence(dt, 5)\n",
        "\n",
        "    plt.subplot(1,3,i+1)\n",
        "    traj = discrete_time_simulate(jax.jit(lambda s,c: unicycle.analytic_step(s,c,dt)), initial_state, controls)\n",
        "    plt.plot(traj[:,0], traj[:,1], label=\"Analytic hold\")\n",
        "    plt.scatter(traj[:,0], traj[:,1], s=2)\n",
        "\n",
        "\n",
        "    traj = discrete_time_simulate(jax.jit(lambda s,c: unicycle.euler_step(s,c,dt)), initial_state, controls)\n",
        "    plt.plot(traj[:,0], traj[:,1], label=\"Euler\")\n",
        "    plt.scatter(traj[:,0], traj[:,1], s=2)\n",
        "\n",
        "    traj = discrete_time_simulate(jax.jit(lambda s,c: unicycle.RK4_step(s,c,dt)), initial_state, controls)\n",
        "    plt.plot(traj[:,0], traj[:,1], label=\"RK4\")\n",
        "    plt.scatter(traj[:,0], traj[:,1], s=2)\n",
        "\n",
        "    plt.grid()\n",
        "    plt.legend()\n",
        "\n",
        "    plt.title(\"dt=%.3f\"%dt)\n",
        "\n",
        "import os\n",
        "\n",
        "# Create directory if it doesn't exist\n",
        "hw_dir = '../HW'\n",
        "if not os.path.exists(hw_dir):\n",
        "    os.makedirs(hw_dir)\n",
        "\n",
        "# Save the figure\n",
        "plt.savefig(os.path.join(hw_dir, 'HW1_problem1.png'))"
      ]
    },
    {
      "cell_type": "markdown",
      "metadata": {
        "id": "qQKPeSb5iPCg"
      },
      "source": [
        "# Problem 2"
      ]
    },
    {
      "cell_type": "code",
      "execution_count": 9,
      "metadata": {
        "id": "hv2_C282iIyH"
      },
      "outputs": [],
      "source": [
        "x0 = jnp.array([0., 0., jnp.pi/4, 2.])\n",
        "u0 = jnp.array([0.1, 1.])"
      ]
    },
    {
      "cell_type": "markdown",
      "metadata": {
        "id": "9Vypt6IeiR1Z"
      },
      "source": [
        "### 2(c)  \n",
        "\n",
        "You need to fill in code for `linearize_autodiff` function.\n",
        "And also `linearize_continuous_time_analytic` to test your analytic solution.\n",
        "\n",
        "Some code to print out values from linearizing the continuous time dynamics about a point"
      ]
    },
    {
      "cell_type": "code",
      "execution_count": 10,
      "metadata": {
        "id": "y7BF-13AiQql"
      },
      "outputs": [
        {
          "name": "stdout",
          "output_type": "stream",
          "text": [
            "Linearization from analytic expression\n",
            "A\n",
            " [[ 0.    0.   -1.41  0.71]\n",
            " [ 0.    0.    1.41  0.71]\n",
            " [ 0.    0.    0.    0.  ]\n",
            " [ 0.    0.    0.    0.  ]]\n",
            "B\n",
            " [[0 0]\n",
            " [0 0]\n",
            " [1 0]\n",
            " [0 1]]\n",
            "C\n",
            " [ 1.11 -1.11  0.    0.  ]\n",
            "\n",
            "\n",
            "\n",
            "Linearization using autodiff on continuous time dynamics\n",
            "A\n",
            " [[ 0.    0.   -1.41  0.71]\n",
            " [ 0.    0.    1.41  0.71]\n",
            " [ 0.    0.    0.    0.  ]\n",
            " [ 0.    0.    0.    0.  ]]\n",
            "B\n",
            " [[0. 0.]\n",
            " [0. 0.]\n",
            " [1. 0.]\n",
            " [0. 1.]]\n",
            "C\n",
            " [ 1.11 -1.11  0.    0.  ]\n"
          ]
        }
      ],
      "source": [
        "## Feel free to edit this code to tailor it to your implementation\n",
        "\n",
        "decimal_places = 2\n",
        "\n",
        "A, B, C = unicycle.linearize_continuous_time_analytic(x0, u0)\n",
        "print(\"Linearization from analytic expression\")\n",
        "print(\"A\\n\", round(A, decimal_places))\n",
        "print(\"B\\n\", round(B, decimal_places))\n",
        "print(\"C\\n\", round(C, decimal_places))\n",
        "\n",
        "print(\"\\n\\n\")\n",
        "\n",
        "A, B, C = linearize_autodiff(unicycle.state_derivative, x0, u0)\n",
        "print(\"Linearization using autodiff on continuous time dynamics\")\n",
        "print(\"A\\n\", round(A, decimal_places))\n",
        "print(\"B\\n\", round(B, decimal_places))\n",
        "print(\"C\\n\", round(C, decimal_places))\n"
      ]
    },
    {
      "cell_type": "markdown",
      "metadata": {
        "id": "nYRz-OpHiWW7"
      },
      "source": [
        "### 2(d)\n",
        "\n",
        "Some code to print out values from linearizing the zero-order hold dynamics about a point"
      ]
    },
    {
      "cell_type": "code",
      "execution_count": 11,
      "metadata": {
        "id": "qO17jAwhiTDd"
      },
      "outputs": [
        {
          "name": "stdout",
          "output_type": "stream",
          "text": [
            "Linearization using autodiff on analytic step \n",
            "A\n",
            " [[ 1.          0.         -0.71999997  0.34      ]\n",
            " [ 0.          1.          0.69        0.35999998]\n",
            " [ 0.          0.          1.          0.        ]\n",
            " [ 0.          0.          0.          1.        ]]\n",
            "B\n",
            " [[-0.17999999  0.        ]\n",
            " [ 0.17        0.        ]\n",
            " [ 0.5         0.        ]\n",
            " [ 0.          0.5       ]]\n",
            "C\n",
            " [ 0.59 -0.56  0.    0.  ]\n",
            "Linearization using autodiff on RK4 step \n",
            "A\n",
            " [[ 1.          0.         -0.82        0.34      ]\n",
            " [ 0.          1.          0.77        0.35999998]\n",
            " [ 0.          0.          1.          0.        ]\n",
            " [ 0.          0.          0.          1.        ]]\n",
            "B\n",
            " [[-0.21        0.09      ]\n",
            " [ 0.19999999  0.09      ]\n",
            " [ 0.5         0.        ]\n",
            " [ 0.          0.5       ]]\n",
            "C\n",
            " [ 0.65999997 -0.63        0.          0.        ]\n"
          ]
        }
      ],
      "source": [
        "## Feel free to edit this code to tailor it to your implementation\n",
        "\n",
        "decimal_places = 2\n",
        "\n",
        "A, B, C = linearize_autodiff(lambda s,c: unicycle.analytic_step(s, c, dt), x0, u0)\n",
        "print(\"Linearization using autodiff on analytic step \")\n",
        "print(\"A\\n\", round(A, decimal_places))\n",
        "print(\"B\\n\", round(B, decimal_places))\n",
        "print(\"C\\n\", round(C, decimal_places))\n",
        "\n",
        "\n",
        "\n",
        "A, B, C = linearize_autodiff(lambda s,c: unicycle.RK4_step(s, c, dt), x0, u0)\n",
        "print(\"Linearization using autodiff on RK4 step \")\n",
        "print(\"A\\n\", round(A, decimal_places))\n",
        "print(\"B\\n\", round(B, decimal_places))\n",
        "print(\"C\\n\", round(C, decimal_places))\n"
      ]
    },
    {
      "cell_type": "code",
      "execution_count": 12,
      "metadata": {},
      "outputs": [
        {
          "ename": "TypeError",
          "evalue": "state_derivative() missing 2 required positional arguments: 'state' and 'control'",
          "output_type": "error",
          "traceback": [
            "\u001b[0;31m---------------------------------------------------------------------------\u001b[0m",
            "\u001b[0;31mTypeError\u001b[0m                                 Traceback (most recent call last)",
            "Cell \u001b[0;32mIn[12], line 4\u001b[0m\n\u001b[1;32m      2\u001b[0m plt\u001b[38;5;241m.\u001b[39mplot(traj[:,\u001b[38;5;241m0\u001b[39m], traj[:,\u001b[38;5;241m1\u001b[39m], label\u001b[38;5;241m=\u001b[39m\u001b[38;5;124m\"\u001b[39m\u001b[38;5;124mAnalytic hold\u001b[39m\u001b[38;5;124m\"\u001b[39m)\n\u001b[1;32m      3\u001b[0m plt\u001b[38;5;241m.\u001b[39mscatter(traj[:,\u001b[38;5;241m0\u001b[39m], traj[:,\u001b[38;5;241m1\u001b[39m], s\u001b[38;5;241m=\u001b[39m\u001b[38;5;241m2\u001b[39m)\n\u001b[0;32m----> 4\u001b[0m jax\u001b[38;5;241m.\u001b[39mvmap(jax\u001b[38;5;241m.\u001b[39mjacobian(\u001b[43municycle\u001b[49m\u001b[38;5;241;43m.\u001b[39;49m\u001b[43mstate_derivative\u001b[49m\u001b[43m(\u001b[49m\u001b[43m)\u001b[49m), in_axes\u001b[38;5;241m=\u001b[39m[\u001b[38;5;241m0\u001b[39m])(controls)\n",
            "\u001b[0;31mTypeError\u001b[0m: state_derivative() missing 2 required positional arguments: 'state' and 'control'"
          ]
        },
        {
          "data": {
            "image/png": "[encoded data removed]",
            "text/plain": [
              "<Figure size 640x480 with 1 Axes>"
            ]
          },
          "metadata": {},
          "output_type": "display_data"
        }
      ],
      "source": [
        "traj = discrete_time_simulate(jax.jit(lambda s,c: unicycle.analytic_step(s,c,dt)), initial_state, controls)\n",
        "plt.plot(traj[:,0], traj[:,1], label=\"Analytic hold\")\n",
        "plt.scatter(traj[:,0], traj[:,1], s=2)\n",
        "jax.vmap(jax.jacobian(unicycle.state_derivative()), in_axes=[0])(controls)"
      ]
    },
    {
      "cell_type": "code",
      "execution_count": null,
      "metadata": {},
      "outputs": [
        {
          "data": {
            "text/plain": [
              "Array([[-2.,  0.],\n",
              "       [ 0.,  6.],\n",
              "       [-2.,  0.],\n",
              "       [-2.,  0.],\n",
              "       [ 0.,  6.],\n",
              "       [-2.,  0.],\n",
              "       [-2.,  0.],\n",
              "       [-2.,  0.],\n",
              "       [ 0.,  6.],\n",
              "       [-2.,  0.]], dtype=float32)"
            ]
          },
          "execution_count": 108,
          "metadata": {},
          "output_type": "execute_result"
        }
      ],
      "source": [
        "import numpy as np\n",
        "def foo(x):\n",
        "    a, b = x\n",
        "    return jnp.where(a<0, -2*a, 6*b)\n",
        "\n",
        "N = 10\n",
        "batched_inputs = jnp.array(np.random.randn(N,2))\n",
        "\n",
        "jax.vmap(jax.jacobian(foo), in_axes=[0])(batched_inputs)"
      ]
    },
    {
      "cell_type": "markdown",
      "metadata": {
        "id": "teo7D3KIiZlo"
      },
      "source": [
        "## Problem 3"
      ]
    },
    {
      "cell_type": "code",
      "execution_count": null,
      "metadata": {
        "id": "1xelJP4KiXkE"
      },
      "outputs": [],
      "source": [
        "def cart_pole(state, control):\n",
        "    '''Cart-pole continuous-time dynamics'''\n",
        "    x, theta, x_dot, theta_dot = state\n",
        "    fx = control\n",
        "    x_dotdot = 1/(1+jnp.sin(theta)**2)*(fx + jnp.sin(theta)*(theta_dot ** 2 + 9.81 * jnp.cos(theta)))\n",
        "    theta_dotdot = 1/(1+jnp.sin(theta)**2)*(-fx*jnp.cos(theta)-theta_dot**2*jnp.cos(theta) * jnp.sin(theta)-2*9.81*jnp.sin(theta))\n",
        "    print(x_dot.shape, theta_dot.shape, x_dotdot.shape, theta_dotdot.shape)\n",
        "    state_dot = jnp.array([[x_dot], [theta_dot], [x_dotdot], [theta_dotdot]])\n",
        "    return state_dot\n",
        "\n",
        "\n",
        "def cart_pole_linearized(state, control, state_eq, control_eq):\n",
        "    '''Linearize cart-pole continuous-time dynamics about equilibrium point'''\n",
        "    A = jax.jacfwd(cart_pole, argnums = 0)(state, control)\n",
        "    B = jax.jacfwd(cart_pole, argnums = 1)(state, control)\n",
        "    delta_state = state - state_eq\n",
        "    delta_control = control - control_eq\n",
        "    f = cart_pole(state_eq, control_eq) + A @ delta_state + B @ delta_control\n",
        "    return f\n",
        "\n",
        "\n",
        "def linearization_error(state, control, state_eq, control_eq):\n",
        "    '''Computes linearization error'''\n",
        "    print(state.shape, control.shape, state_eq.shape, control_eq.shape)\n",
        "    flin = cart_pole_linearized(state, control, state_eq, control_eq)\n",
        "    f = cart_pole(state, control)\n",
        "    print(f.shape, flin.shape)\n",
        "    error = np.linalg.norm(f - flin)\n",
        "    return error\n",
        "\n"
      ]
    },
    {
      "cell_type": "code",
      "execution_count": 16,
      "metadata": {
        "id": "DHJzr5yAibrZ"
      },
      "outputs": [
        {
          "name": "stdout",
          "output_type": "stream",
          "text": [
            "(4,) (1,) (4,) (1,)\n"
          ]
        },
        {
          "ename": "ValueError",
          "evalue": "All input arrays must have the same shape.",
          "output_type": "error",
          "traceback": [
            "\u001b[0;31m---------------------------------------------------------------------------\u001b[0m",
            "\u001b[0;31mValueError\u001b[0m                                Traceback (most recent call last)",
            "Cell \u001b[0;32mIn[16], line 19\u001b[0m\n\u001b[1;32m      6\u001b[0m states \u001b[38;5;241m=\u001b[39m jnp\u001b[38;5;241m.\u001b[39marray([[\u001b[38;5;241m0\u001b[39m,\u001b[38;5;241m0.99\u001b[39m\u001b[38;5;241m*\u001b[39mjnp\u001b[38;5;241m.\u001b[39mpi,\u001b[38;5;241m0\u001b[39m,\u001b[38;5;241m0\u001b[39m],\n\u001b[1;32m      7\u001b[0m                     [\u001b[38;5;241m0\u001b[39m,\u001b[38;5;241m0.9\u001b[39m\u001b[38;5;241m*\u001b[39mjnp\u001b[38;5;241m.\u001b[39mpi,\u001b[38;5;241m0\u001b[39m,\u001b[38;5;241m0\u001b[39m],\n\u001b[1;32m      8\u001b[0m                     [\u001b[38;5;241m0\u001b[39m,\u001b[38;5;241m0.85\u001b[39m\u001b[38;5;241m*\u001b[39mjnp\u001b[38;5;241m.\u001b[39mpi,\u001b[38;5;241m0\u001b[39m,\u001b[38;5;241m0\u001b[39m],\n\u001b[1;32m      9\u001b[0m                     [\u001b[38;5;241m0\u001b[39m,\u001b[38;5;241m0.5\u001b[39m\u001b[38;5;241m*\u001b[39mjnp\u001b[38;5;241m.\u001b[39mpi,\u001b[38;5;241m0\u001b[39m,\u001b[38;5;241m0\u001b[39m],\n\u001b[1;32m     10\u001b[0m                     [\u001b[38;5;241m0\u001b[39m,\u001b[38;5;241m0\u001b[39m,\u001b[38;5;241m0\u001b[39m,\u001b[38;5;241m0\u001b[39m],\n\u001b[1;32m     11\u001b[0m                     [\u001b[38;5;241m1\u001b[39m,jnp\u001b[38;5;241m.\u001b[39mpi,\u001b[38;5;241m0\u001b[39m,\u001b[38;5;241m0\u001b[39m]])\n\u001b[1;32m     12\u001b[0m controls \u001b[38;5;241m=\u001b[39m jnp\u001b[38;5;241m.\u001b[39marray([[\u001b[38;5;241m-\u001b[39m\u001b[38;5;241m0.\u001b[39m],\n\u001b[1;32m     13\u001b[0m                       [\u001b[38;5;241m-\u001b[39m\u001b[38;5;241m10.\u001b[39m],\n\u001b[1;32m     14\u001b[0m                       [\u001b[38;5;241m0.\u001b[39m],\n\u001b[1;32m     15\u001b[0m                       [\u001b[38;5;241m0.\u001b[39m],\n\u001b[1;32m     16\u001b[0m                       [\u001b[38;5;241m0.\u001b[39m],\n\u001b[1;32m     17\u001b[0m                       [\u001b[38;5;241m10.\u001b[39m]])\n\u001b[0;32m---> 19\u001b[0m errors \u001b[38;5;241m=\u001b[39m \u001b[43mjax\u001b[49m\u001b[38;5;241;43m.\u001b[39;49m\u001b[43mvmap\u001b[49m\u001b[43m(\u001b[49m\u001b[43mlinearization_error\u001b[49m\u001b[43m,\u001b[49m\u001b[43m \u001b[49m\u001b[43min_axes\u001b[49m\u001b[38;5;241;43m=\u001b[39;49m\u001b[43m[\u001b[49m\u001b[38;5;241;43m0\u001b[39;49m\u001b[43m,\u001b[49m\u001b[43m \u001b[49m\u001b[38;5;241;43m0\u001b[39;49m\u001b[43m,\u001b[49m\u001b[43m \u001b[49m\u001b[38;5;28;43;01mNone\u001b[39;49;00m\u001b[43m,\u001b[49m\u001b[43m \u001b[49m\u001b[38;5;28;43;01mNone\u001b[39;49;00m\u001b[43m]\u001b[49m\u001b[43m)\u001b[49m\u001b[43m(\u001b[49m\u001b[43mstates\u001b[49m\u001b[43m,\u001b[49m\u001b[43m \u001b[49m\u001b[43mcontrols\u001b[49m\u001b[43m,\u001b[49m\u001b[43m \u001b[49m\u001b[43mstate_eq\u001b[49m\u001b[43m,\u001b[49m\u001b[43m \u001b[49m\u001b[43mcontrol_eq\u001b[49m\u001b[43m)\u001b[49m\n",
            "    \u001b[0;31m[... skipping hidden 3 frame]\u001b[0m\n",
            "Cell \u001b[0;32mIn[13], line 24\u001b[0m, in \u001b[0;36mlinearization_error\u001b[0;34m(state, control, state_eq, control_eq)\u001b[0m\n\u001b[1;32m     22\u001b[0m \u001b[38;5;250m\u001b[39m\u001b[38;5;124;03m'''Computes linearization error'''\u001b[39;00m\n\u001b[1;32m     23\u001b[0m \u001b[38;5;28mprint\u001b[39m(state\u001b[38;5;241m.\u001b[39mshape, control\u001b[38;5;241m.\u001b[39mshape, state_eq\u001b[38;5;241m.\u001b[39mshape, control_eq\u001b[38;5;241m.\u001b[39mshape)\n\u001b[0;32m---> 24\u001b[0m flin \u001b[38;5;241m=\u001b[39m \u001b[43mcart_pole_linearized\u001b[49m\u001b[43m(\u001b[49m\u001b[43mstate\u001b[49m\u001b[43m,\u001b[49m\u001b[43m \u001b[49m\u001b[43mcontrol\u001b[49m\u001b[43m,\u001b[49m\u001b[43m \u001b[49m\u001b[43mstate_eq\u001b[49m\u001b[43m,\u001b[49m\u001b[43m \u001b[49m\u001b[43mcontrol_eq\u001b[49m\u001b[43m)\u001b[49m\n\u001b[1;32m     25\u001b[0m f \u001b[38;5;241m=\u001b[39m cart_pole(state, control)\n\u001b[1;32m     26\u001b[0m \u001b[38;5;28mprint\u001b[39m(f\u001b[38;5;241m.\u001b[39mshape, flin\u001b[38;5;241m.\u001b[39mshape)\n",
            "Cell \u001b[0;32mIn[13], line 13\u001b[0m, in \u001b[0;36mcart_pole_linearized\u001b[0;34m(state, control, state_eq, control_eq)\u001b[0m\n\u001b[1;32m     11\u001b[0m \u001b[38;5;28;01mdef\u001b[39;00m \u001b[38;5;21mcart_pole_linearized\u001b[39m(state, control, state_eq, control_eq):\n\u001b[1;32m     12\u001b[0m \u001b[38;5;250m    \u001b[39m\u001b[38;5;124;03m'''Linearize cart-pole continuous-time dynamics about equilibrium point'''\u001b[39;00m\n\u001b[0;32m---> 13\u001b[0m     A \u001b[38;5;241m=\u001b[39m \u001b[43mjax\u001b[49m\u001b[38;5;241;43m.\u001b[39;49m\u001b[43mjacfwd\u001b[49m\u001b[43m(\u001b[49m\u001b[43mcart_pole\u001b[49m\u001b[43m,\u001b[49m\u001b[43m \u001b[49m\u001b[43margnums\u001b[49m\u001b[43m \u001b[49m\u001b[38;5;241;43m=\u001b[39;49m\u001b[43m \u001b[49m\u001b[38;5;241;43m0\u001b[39;49m\u001b[43m)\u001b[49m\u001b[43m(\u001b[49m\u001b[43mstate\u001b[49m\u001b[43m,\u001b[49m\u001b[43m \u001b[49m\u001b[43mcontrol\u001b[49m\u001b[43m)\u001b[49m\n\u001b[1;32m     14\u001b[0m     B \u001b[38;5;241m=\u001b[39m jax\u001b[38;5;241m.\u001b[39mjacfwd(cart_pole, argnums \u001b[38;5;241m=\u001b[39m \u001b[38;5;241m1\u001b[39m)(state, control)\n\u001b[1;32m     15\u001b[0m     delta_state \u001b[38;5;241m=\u001b[39m state \u001b[38;5;241m-\u001b[39m state_eq\n",
            "    \u001b[0;31m[... skipping hidden 6 frame]\u001b[0m\n",
            "Cell \u001b[0;32mIn[13], line 7\u001b[0m, in \u001b[0;36mcart_pole\u001b[0;34m(state, control)\u001b[0m\n\u001b[1;32m      5\u001b[0m x_dotdot \u001b[38;5;241m=\u001b[39m \u001b[38;5;241m1\u001b[39m\u001b[38;5;241m/\u001b[39m(\u001b[38;5;241m1\u001b[39m\u001b[38;5;241m+\u001b[39mjnp\u001b[38;5;241m.\u001b[39msin(theta)\u001b[38;5;241m*\u001b[39m\u001b[38;5;241m*\u001b[39m\u001b[38;5;241m2\u001b[39m)\u001b[38;5;241m*\u001b[39m(fx \u001b[38;5;241m+\u001b[39m jnp\u001b[38;5;241m.\u001b[39msin(theta)\u001b[38;5;241m*\u001b[39m(theta_dot \u001b[38;5;241m*\u001b[39m\u001b[38;5;241m*\u001b[39m \u001b[38;5;241m2\u001b[39m \u001b[38;5;241m+\u001b[39m \u001b[38;5;241m9.81\u001b[39m \u001b[38;5;241m*\u001b[39m jnp\u001b[38;5;241m.\u001b[39mcos(theta)))\n\u001b[1;32m      6\u001b[0m theta_dotdot \u001b[38;5;241m=\u001b[39m \u001b[38;5;241m1\u001b[39m\u001b[38;5;241m/\u001b[39m(\u001b[38;5;241m1\u001b[39m\u001b[38;5;241m+\u001b[39mjnp\u001b[38;5;241m.\u001b[39msin(theta)\u001b[38;5;241m*\u001b[39m\u001b[38;5;241m*\u001b[39m\u001b[38;5;241m2\u001b[39m)\u001b[38;5;241m*\u001b[39m(\u001b[38;5;241m-\u001b[39mfx\u001b[38;5;241m*\u001b[39mjnp\u001b[38;5;241m.\u001b[39mcos(theta)\u001b[38;5;241m-\u001b[39mtheta_dot\u001b[38;5;241m*\u001b[39m\u001b[38;5;241m*\u001b[39m\u001b[38;5;241m2\u001b[39m\u001b[38;5;241m*\u001b[39mjnp\u001b[38;5;241m.\u001b[39mcos(theta) \u001b[38;5;241m*\u001b[39m jnp\u001b[38;5;241m.\u001b[39msin(theta)\u001b[38;5;241m-\u001b[39m\u001b[38;5;241m2\u001b[39m\u001b[38;5;241m*\u001b[39m\u001b[38;5;241m9.81\u001b[39m\u001b[38;5;241m*\u001b[39mjnp\u001b[38;5;241m.\u001b[39msin(theta))\n\u001b[0;32m----> 7\u001b[0m state_dot \u001b[38;5;241m=\u001b[39m \u001b[43mjnp\u001b[49m\u001b[38;5;241;43m.\u001b[39;49m\u001b[43marray\u001b[49m\u001b[43m(\u001b[49m\u001b[43m[\u001b[49m\u001b[43m[\u001b[49m\u001b[43mx_dot\u001b[49m\u001b[43m]\u001b[49m\u001b[43m,\u001b[49m\u001b[43m \u001b[49m\u001b[43m[\u001b[49m\u001b[43mtheta_dot\u001b[49m\u001b[43m]\u001b[49m\u001b[43m,\u001b[49m\u001b[43m \u001b[49m\u001b[43m[\u001b[49m\u001b[43mx_dotdot\u001b[49m\u001b[43m]\u001b[49m\u001b[43m,\u001b[49m\u001b[43m \u001b[49m\u001b[43m[\u001b[49m\u001b[43mtheta_dotdot\u001b[49m\u001b[43m]\u001b[49m\u001b[43m]\u001b[49m\u001b[43m)\u001b[49m\n\u001b[1;32m      8\u001b[0m \u001b[38;5;28;01mreturn\u001b[39;00m state_dot\n",
            "File \u001b[0;32m~/anaconda3/envs/cvx/lib/python3.9/site-packages/jax/_src/numpy/lax_numpy.py:2060\u001b[0m, in \u001b[0;36marray\u001b[0;34m(object, dtype, copy, order, ndmin)\u001b[0m\n\u001b[1;32m   2058\u001b[0m \u001b[38;5;28;01melif\u001b[39;00m \u001b[38;5;28misinstance\u001b[39m(\u001b[38;5;28mobject\u001b[39m, (\u001b[38;5;28mlist\u001b[39m, \u001b[38;5;28mtuple\u001b[39m)):\n\u001b[1;32m   2059\u001b[0m   \u001b[38;5;28;01mif\u001b[39;00m \u001b[38;5;28mobject\u001b[39m:\n\u001b[0;32m-> 2060\u001b[0m     out \u001b[38;5;241m=\u001b[39m \u001b[43mstack\u001b[49m\u001b[43m(\u001b[49m\u001b[43m[\u001b[49m\u001b[43masarray\u001b[49m\u001b[43m(\u001b[49m\u001b[43melt\u001b[49m\u001b[43m,\u001b[49m\u001b[43m \u001b[49m\u001b[43mdtype\u001b[49m\u001b[38;5;241;43m=\u001b[39;49m\u001b[43mdtype\u001b[49m\u001b[43m)\u001b[49m\u001b[43m \u001b[49m\u001b[38;5;28;43;01mfor\u001b[39;49;00m\u001b[43m \u001b[49m\u001b[43melt\u001b[49m\u001b[43m \u001b[49m\u001b[38;5;129;43;01min\u001b[39;49;00m\u001b[43m \u001b[49m\u001b[38;5;28;43mobject\u001b[39;49m\u001b[43m]\u001b[49m\u001b[43m)\u001b[49m\n\u001b[1;32m   2061\u001b[0m   \u001b[38;5;28;01melse\u001b[39;00m:\n\u001b[1;32m   2062\u001b[0m     out \u001b[38;5;241m=\u001b[39m np\u001b[38;5;241m.\u001b[39marray([], dtype\u001b[38;5;241m=\u001b[39mdtype)  \u001b[38;5;66;03m# type: ignore[arg-type]\u001b[39;00m\n",
            "File \u001b[0;32m~/anaconda3/envs/cvx/lib/python3.9/site-packages/jax/_src/numpy/lax_numpy.py:1800\u001b[0m, in \u001b[0;36mstack\u001b[0;34m(arrays, axis, out, dtype)\u001b[0m\n\u001b[1;32m   1798\u001b[0m \u001b[38;5;28;01mfor\u001b[39;00m a \u001b[38;5;129;01min\u001b[39;00m arrays:\n\u001b[1;32m   1799\u001b[0m   \u001b[38;5;28;01mif\u001b[39;00m shape(a) \u001b[38;5;241m!=\u001b[39m shape0:\n\u001b[0;32m-> 1800\u001b[0m     \u001b[38;5;28;01mraise\u001b[39;00m \u001b[38;5;167;01mValueError\u001b[39;00m(\u001b[38;5;124m\"\u001b[39m\u001b[38;5;124mAll input arrays must have the same shape.\u001b[39m\u001b[38;5;124m\"\u001b[39m)\n\u001b[1;32m   1801\u001b[0m   new_arrays\u001b[38;5;241m.\u001b[39mappend(expand_dims(a, axis))\n\u001b[1;32m   1802\u001b[0m \u001b[38;5;28;01mreturn\u001b[39;00m concatenate(new_arrays, axis\u001b[38;5;241m=\u001b[39maxis, dtype\u001b[38;5;241m=\u001b[39mdtype)\n",
            "\u001b[0;31mValueError\u001b[0m: All input arrays must have the same shape."
          ]
        }
      ],
      "source": [
        "## Feel free to edit this code to tailor it to your implementation\n",
        "\n",
        "# x, theta, xdot, thetadot\n",
        "state_eq = jnp.array([0., jnp.pi, 0.0, 0.0])\n",
        "control_eq = jnp.zeros(1)\n",
        "states = jnp.array([[0,0.99*jnp.pi,0,0],\n",
        "                    [0,0.9*jnp.pi,0,0],\n",
        "                    [0,0.85*jnp.pi,0,0],\n",
        "                    [0,0.5*jnp.pi,0,0],\n",
        "                    [0,0,0,0],\n",
        "                    [1,jnp.pi,0,0]])\n",
        "controls = jnp.array([[-0.],\n",
        "                      [-10.],\n",
        "                      [0.],\n",
        "                      [0.],\n",
        "                      [0.],\n",
        "                      [10.]])\n",
        "\n",
        "errors = jax.vmap(linearization_error, in_axes=[0, 0, None, None])(states, controls, state_eq, control_eq)\n"
      ]
    },
    {
      "cell_type": "code",
      "execution_count": null,
      "metadata": {
        "id": "Wrkw58IIicc2"
      },
      "outputs": [
        {
          "ename": "TypeError",
          "evalue": "'NoneType' object is not iterable",
          "output_type": "error",
          "traceback": [
            "\u001b[0;31m---------------------------------------------------------------------------\u001b[0m",
            "\u001b[0;31mTypeError\u001b[0m                                 Traceback (most recent call last)",
            "Cell \u001b[0;32mIn[198], line 3\u001b[0m\n\u001b[1;32m      1\u001b[0m \u001b[38;5;66;03m## Feel free to edit this code to tailor it to your implementation\u001b[39;00m\n\u001b[0;32m----> 3\u001b[0m \u001b[38;5;28;01mfor\u001b[39;00m i, e \u001b[38;5;129;01min\u001b[39;00m \u001b[38;5;28;43menumerate\u001b[39;49m\u001b[43m(\u001b[49m\u001b[43merrors\u001b[49m\u001b[43m)\u001b[49m:\n\u001b[1;32m      4\u001b[0m     \u001b[38;5;28mprint\u001b[39m(\u001b[38;5;124mf\u001b[39m\u001b[38;5;124m\"\u001b[39m\u001b[38;5;124mState = \u001b[39m\u001b[38;5;132;01m{\u001b[39;00mjnp\u001b[38;5;241m.\u001b[39maround(states[i],\u001b[38;5;250m \u001b[39mdecimals\u001b[38;5;241m=\u001b[39m\u001b[38;5;241m3\u001b[39m)\u001b[38;5;132;01m}\u001b[39;00m\u001b[38;5;124m^T\u001b[39m\u001b[38;5;124m\"\u001b[39m)\n\u001b[1;32m      5\u001b[0m     \u001b[38;5;28mprint\u001b[39m(\u001b[38;5;124mf\u001b[39m\u001b[38;5;124m\"\u001b[39m\u001b[38;5;124mInput = \u001b[39m\u001b[38;5;132;01m{\u001b[39;00mjnp\u001b[38;5;241m.\u001b[39maround(controls[i],\u001b[38;5;250m \u001b[39mdecimals\u001b[38;5;241m=\u001b[39m\u001b[38;5;241m3\u001b[39m)\u001b[38;5;132;01m}\u001b[39;00m\u001b[38;5;124m\"\u001b[39m)\n",
            "\u001b[0;31mTypeError\u001b[0m: 'NoneType' object is not iterable"
          ]
        }
      ],
      "source": [
        "## Feel free to edit this code to tailor it to your implementation\n",
        "\n",
        "for i, e in enumerate(errors):\n",
        "    print(f\"State = {jnp.around(states[i], decimals=3)}^T\")\n",
        "    print(f\"Input = {jnp.around(controls[i], decimals=3)}\")\n",
        "    print(\"Linearization error = %.3f\"%e)\n",
        "    print(\"Norm of f(x,u) = %.3f\\n\"%jnp.linalg.norm(cart_pole(states[i], controls[i])))"
      ]
    },
    {
      "cell_type": "code",
      "execution_count": null,
      "metadata": {
        "id": "J3sel7s4idl7"
      },
      "outputs": [],
      "source": []
    }
  ],
  "metadata": {
    "colab": {
      "include_colab_link": true,
      "provenance": []
    },
    "kernelspec": {
      "display_name": "Python 3",
      "name": "python3"
    },
    "language_info": {
      "codemirror_mode": {
        "name": "ipython",
        "version": 3
      },
      "file_extension": ".py",
      "mimetype": "text/x-python",
      "name": "python",
      "nbconvert_exporter": "python",
      "pygments_lexer": "ipython3",
      "version": "3.9.15"
    }
  },
  "nbformat": 4,
  "nbformat_minor": 0
}
